{
 "cells": [
  {
   "cell_type": "markdown",
   "metadata": {},
   "source": [
    "# Exercise 1 program for Caesar Cipher algorithm  "
   ]
  },
  {
   "cell_type": "code",
   "execution_count": 1,
   "metadata": {},
   "outputs": [
    {
     "name": "stdout",
     "output_type": "stream",
     "text": [
      "('The Plain Text is:', 'HELLO')\n",
      "('The Encrypted Message is:', 'KHOOR')\n",
      "('The Decoded Message is:', 'HELLO')\n"
     ]
    }
   ],
   "source": [
    "L2I = dict(zip(\"ABCDEFGHIJKLMNOPQRSTUVWXYZ\",range(26)))\n",
    "I2L = dict(zip(range(26),\"ABCDEFGHIJKLMNOPQRSTUVWXYZ\"))\n",
    "\n",
    "key = 3\n",
    "plaintext = \"HELLO\"\n",
    "\n",
    "# Encryption\n",
    "ciphertext = \"\"\n",
    "for c in plaintext.upper():\n",
    "    if c.isalpha(): \n",
    "        ciphertext += I2L[ (L2I[c] + key)%26 ]\n",
    "    else: ciphertext += c\n",
    "\n",
    "# Decryption\n",
    "plaintext2 = \"\"\n",
    "for c in ciphertext.upper():\n",
    "    if c.isalpha(): \n",
    "        plaintext2 += I2L[ (L2I[c] - key)%26 ]\n",
    "    else: plaintext2 += c\n",
    "\n",
    "print ('The Plain Text is:',plaintext)\n",
    "print (\"The Encrypted Message is:\",ciphertext)\n",
    "print (\"The Decoded Message is:\",plaintext2)"
   ]
  },
  {
   "cell_type": "code",
   "execution_count": 2,
   "metadata": {},
   "outputs": [
    {
     "name": "stdout",
     "output_type": "stream",
     "text": [
      "{'A': 0, 'C': 2, 'B': 1, 'E': 4, 'D': 3, 'G': 6, 'F': 5, 'I': 8, 'H': 7, 'K': 10, 'J': 9, 'M': 12, 'L': 11, 'O': 14, 'N': 13, 'Q': 16, 'P': 15, 'S': 18, 'R': 17, 'U': 20, 'T': 19, 'W': 22, 'V': 21, 'Y': 24, 'X': 23, 'Z': 25}\n"
     ]
    }
   ],
   "source": [
    "print L2I"
   ]
  },
  {
   "cell_type": "code",
   "execution_count": 3,
   "metadata": {},
   "outputs": [
    {
     "name": "stdout",
     "output_type": "stream",
     "text": [
      "{0: 'A', 1: 'B', 2: 'C', 3: 'D', 4: 'E', 5: 'F', 6: 'G', 7: 'H', 8: 'I', 9: 'J', 10: 'K', 11: 'L', 12: 'M', 13: 'N', 14: 'O', 15: 'P', 16: 'Q', 17: 'R', 18: 'S', 19: 'T', 20: 'U', 21: 'V', 22: 'W', 23: 'X', 24: 'Y', 25: 'Z'}\n"
     ]
    }
   ],
   "source": [
    "print I2L"
   ]
  },
  {
   "cell_type": "markdown",
   "metadata": {},
   "source": [
    "# Exercise 1 program for Hill cipher scheme algorithm  "
   ]
  },
  {
   "cell_type": "code",
   "execution_count": 72,
   "metadata": {},
   "outputs": [
    {
     "name": "stdout",
     "output_type": "stream",
     "text": [
      "('The Plain Text is:', 'MISSISSIPPIK')\n",
      "('The Key Matrix is:', array([[ 3, 25],\n",
      "       [24, 17]]))\n",
      "[[12  8]\n",
      " [18 18]\n",
      " [ 8 18]\n",
      " [18  8]\n",
      " [15 15]\n",
      " [ 8 10]]\n"
     ]
    },
    {
     "data": {
      "text/plain": [
       "array([[array([28, 10, 32, 20, 30, 40]), 0],\n",
       "       [array([ 8, 36, 30, 22, 43, 24]), 0]], dtype=object)"
      ]
     },
     "execution_count": 72,
     "metadata": {},
     "output_type": "execute_result"
    }
   ],
   "source": [
    "import numpy as np\n",
    "\n",
    "plaintext = \"Mississippik\"\n",
    "P = plaintext.upper();\n",
    "print (\"The Plain Text is:\", P)\n",
    "\n",
    "K = np.array([[3, 25], [24, 17]])\n",
    "print (\"The Key Matrix is:\", K)\n",
    "\n",
    "output = []\n",
    "for character in P:\n",
    "    number = ord(character)%65\n",
    "    output.append(number)\n",
    "\n",
    "output = np.array(output)\n",
    "# print output \n",
    "\n",
    "vect = np.reshape(output, (-1, 2))\n",
    "print vect\n",
    "\n",
    "size = 12/2\n",
    "a = [vect[i:i+size] for i in range(0, len(vect), size)]\n",
    "b = zip(*a)\n",
    "# print b\n",
    "\n",
    "[list(i) for i in b]\n",
    "\n",
    "c = np.array(b) \n",
    "c = c.T\n",
    "\n",
    "result = [[0, 0], [0, 0]]\n",
    "for i in range(len(K)):\n",
    "   # iterate through columns of Y\n",
    "   for j in range(len(c[0])):\n",
    "       # iterate through rows of Y\n",
    "       for k in range(len(c)):\n",
    "            result[i][j] += (K[i][k] * c[k][j]) % 26\n",
    "            result\n",
    "        \n",
    "\n",
    "result = np.array(result)\n",
    "result\n",
    "\n",
    "\n",
    "# unCiphered = \"\"\n",
    "# for r in result:\n",
    "#     numeric_letter = r[0:] % 26 \n",
    "#     val = chr(numeric_letter + 97)\n",
    "#     unCiphered = unCiphered + val\n",
    "#     print unCiphered\n",
    "            \n",
    "            \n",
    "# # d = np.ravel(result).T\n",
    "# # print d\n",
    "\n",
    "# w = np.reshape(result, (-1, 4))\n",
    "# print w\n",
    "\n"
   ]
  },
  {
   "cell_type": "code",
   "execution_count": null,
   "metadata": {
    "collapsed": true
   },
   "outputs": [],
   "source": []
  },
  {
   "cell_type": "markdown",
   "metadata": {},
   "source": [
    "# Exercise 1 program for Rail Fence cipher scheme algorithm  "
   ]
  },
  {
   "cell_type": "code",
   "execution_count": null,
   "metadata": {
    "collapsed": true
   },
   "outputs": [],
   "source": []
  },
  {
   "cell_type": "code",
   "execution_count": null,
   "metadata": {
    "collapsed": true
   },
   "outputs": [],
   "source": []
  },
  {
   "cell_type": "markdown",
   "metadata": {},
   "source": [
    "# Exercise 1 program for playfair cipher scheme algorithm  "
   ]
  },
  {
   "cell_type": "code",
   "execution_count": null,
   "metadata": {
    "collapsed": true
   },
   "outputs": [],
   "source": []
  },
  {
   "cell_type": "code",
   "execution_count": null,
   "metadata": {
    "collapsed": true
   },
   "outputs": [],
   "source": []
  },
  {
   "cell_type": "code",
   "execution_count": null,
   "metadata": {
    "collapsed": true
   },
   "outputs": [],
   "source": []
  }
 ],
 "metadata": {
  "kernelspec": {
   "display_name": "Python 2",
   "language": "python",
   "name": "python2"
  },
  "language_info": {
   "codemirror_mode": {
    "name": "ipython",
    "version": 2
   },
   "file_extension": ".py",
   "mimetype": "text/x-python",
   "name": "python",
   "nbconvert_exporter": "python",
   "pygments_lexer": "ipython2",
   "version": "2.7.13"
  }
 },
 "nbformat": 4,
 "nbformat_minor": 2
}
