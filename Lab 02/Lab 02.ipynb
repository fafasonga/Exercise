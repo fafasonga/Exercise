{
 "cells": [
  {
   "cell_type": "markdown",
   "metadata": {},
   "source": [
    "# Program for Caesar Cipher Algorithm  "
   ]
  },
  {
   "cell_type": "code",
   "execution_count": 162,
   "metadata": {},
   "outputs": [
    {
     "name": "stdout",
     "output_type": "stream",
     "text": [
      "('The Plain Text is:', 'HELLO')\n",
      "('The Encrypted Message of ', 'HELLO', ' is:', 'KHOOR')\n",
      "('The Decrypted Message of', 'KHOOR', ' is:', 'HELLO')\n"
     ]
    }
   ],
   "source": [
    "L2I = dict(zip(\"ABCDEFGHIJKLMNOPQRSTUVWXYZ\",range(26)))\n",
    "I2L = dict(zip(range(26),\"ABCDEFGHIJKLMNOPQRSTUVWXYZ\"))\n",
    "\n",
    "key = 3\n",
    "plaintext = \"HELLO\"\n",
    "\n",
    "# Encryption\n",
    "ciphertext = \"\"\n",
    "for c in plaintext.upper():\n",
    "    if c.isalpha(): \n",
    "        ciphertext += I2L[ (L2I[c] + key)%26 ]\n",
    "    else: ciphertext += c\n",
    "\n",
    "# Decryption\n",
    "plaintext2 = \"\"\n",
    "for c in ciphertext.upper():\n",
    "    if c.isalpha(): \n",
    "        plaintext2 += I2L[ (L2I[c] - key)%26 ]\n",
    "    else: plaintext2 += c\n",
    "\n",
    "print ('The Plain Text is:',plaintext)\n",
    "print (\"The Encrypted Message of \",plaintext,\" is:\",ciphertext)\n",
    "print (\"The Decrypted Message of\",ciphertext,\" is:\",plaintext2)"
   ]
  },
  {
   "cell_type": "code",
   "execution_count": 71,
   "metadata": {},
   "outputs": [
    {
     "name": "stdout",
     "output_type": "stream",
     "text": [
      "{'A': 0, 'C': 2, 'B': 1, 'E': 4, 'D': 3, 'G': 6, 'F': 5, 'I': 8, 'H': 7, 'K': 10, 'J': 9, 'M': 12, 'L': 11, 'O': 14, 'N': 13, 'Q': 16, 'P': 15, 'S': 18, 'R': 17, 'U': 20, 'T': 19, 'W': 22, 'V': 21, 'Y': 24, 'X': 23, 'Z': 25}\n"
     ]
    }
   ],
   "source": [
    "print L2I"
   ]
  },
  {
   "cell_type": "code",
   "execution_count": 72,
   "metadata": {},
   "outputs": [
    {
     "name": "stdout",
     "output_type": "stream",
     "text": [
      "{0: 'A', 1: 'B', 2: 'C', 3: 'D', 4: 'E', 5: 'F', 6: 'G', 7: 'H', 8: 'I', 9: 'J', 10: 'K', 11: 'L', 12: 'M', 13: 'N', 14: 'O', 15: 'P', 16: 'Q', 17: 'R', 18: 'S', 19: 'T', 20: 'U', 21: 'V', 22: 'W', 23: 'X', 24: 'Y', 25: 'Z'}\n"
     ]
    }
   ],
   "source": [
    "print I2L"
   ]
  },
  {
   "cell_type": "markdown",
   "metadata": {},
   "source": [
    "# Program for Hill Cipher Scheme Algorithm  "
   ]
  },
  {
   "cell_type": "code",
   "execution_count": 161,
   "metadata": {},
   "outputs": [
    {
     "name": "stdout",
     "output_type": "stream",
     "text": [
      "('The Plain Text is:', 'MISSISSIPPIK')\n",
      "('The Key Matrix is:', array([[ 3, 25],\n",
      "       [24, 17]]))\n",
      "[12  8 18 18  8 18 18  8 15 15  8 10]\n",
      "[[10, 0, 0, 0, 0, 0], [0, 0, 0, 0, 0, 0]]\n",
      "[[28, 0, 0, 0, 0, 0], [0, 0, 0, 0, 0, 0]]\n",
      "[[28, 2, 0, 0, 0, 0], [0, 0, 0, 0, 0, 0]]\n",
      "[[28, 10, 0, 0, 0, 0], [0, 0, 0, 0, 0, 0]]\n",
      "[[28, 10, 24, 0, 0, 0], [0, 0, 0, 0, 0, 0]]\n",
      "[[28, 10, 32, 0, 0, 0], [0, 0, 0, 0, 0, 0]]\n",
      "[[28, 10, 32, 2, 0, 0], [0, 0, 0, 0, 0, 0]]\n",
      "[[28, 10, 32, 20, 0, 0], [0, 0, 0, 0, 0, 0]]\n",
      "[[28, 10, 32, 20, 19, 0], [0, 0, 0, 0, 0, 0]]\n",
      "[[28, 10, 32, 20, 30, 0], [0, 0, 0, 0, 0, 0]]\n",
      "[[28, 10, 32, 20, 30, 24], [0, 0, 0, 0, 0, 0]]\n",
      "[[28, 10, 32, 20, 30, 40], [0, 0, 0, 0, 0, 0]]\n",
      "[[28, 10, 32, 20, 30, 40], [2, 0, 0, 0, 0, 0]]\n",
      "[[28, 10, 32, 20, 30, 40], [8, 0, 0, 0, 0, 0]]\n",
      "[[28, 10, 32, 20, 30, 40], [8, 16, 0, 0, 0, 0]]\n",
      "[[28, 10, 32, 20, 30, 40], [8, 36, 0, 0, 0, 0]]\n",
      "[[28, 10, 32, 20, 30, 40], [8, 36, 10, 0, 0, 0]]\n",
      "[[28, 10, 32, 20, 30, 40], [8, 36, 30, 0, 0, 0]]\n",
      "[[28, 10, 32, 20, 30, 40], [8, 36, 30, 16, 0, 0]]\n",
      "[[28, 10, 32, 20, 30, 40], [8, 36, 30, 22, 0, 0]]\n",
      "[[28, 10, 32, 20, 30, 40], [8, 36, 30, 22, 22, 0]]\n",
      "[[28, 10, 32, 20, 30, 40], [8, 36, 30, 22, 43, 0]]\n",
      "[[28, 10, 32, 20, 30, 40], [8, 36, 30, 22, 43, 10]]\n",
      "[[28, 10, 32, 20, 30, 40], [8, 36, 30, 22, 43, 24]]\n",
      "[28  8 10 36 32 30 20 22 30 43 40 24]\n",
      "[ 2  8 10 10  6  4 20 22  4 17 14 24]\n",
      "C\n",
      "CI\n",
      "CIK\n",
      "CIKK\n",
      "CIKKG\n",
      "CIKKGE\n",
      "CIKKGEU\n",
      "CIKKGEUW\n",
      "CIKKGEUWE\n",
      "CIKKGEUWER\n",
      "CIKKGEUWERO\n",
      "CIKKGEUWEROY\n",
      "('The Encrypted Hill Cipher of', 'MISSISSIPPIK', ' is:', 'CIKKGEUWEROY')\n"
     ]
    }
   ],
   "source": [
    "import numpy as np\n",
    "\n",
    "plaintext = \"Mississippik\"\n",
    "P = plaintext.upper();\n",
    "print (\"The Plain Text is:\", P)\n",
    "\n",
    "K = np.array([[3, 25], [24, 17]])\n",
    "print (\"The Key Matrix is:\", K)\n",
    "\n",
    "output = []\n",
    "for character in P:\n",
    "    number = ord(character)%65\n",
    "    output.append(number)\n",
    "\n",
    "output = np.array(output)\n",
    "print output \n",
    "\n",
    "#Break the Matrix into 2D matrix\n",
    "a = output[:2]\n",
    "b = output[2:4]\n",
    "c = output[4:6]\n",
    "d = output[6:8]\n",
    "e = output[8:10]\n",
    "f = output[10:12]\n",
    "\n",
    "A = np.array([a,b,c,d,e,f])\n",
    "A = A.T                          #Transpose of the Matrix\n",
    "\n",
    "result = [[0, 0, 0, 0, 0, 0], [0, 0, 0, 0, 0, 0]]\n",
    "for i in range(len(K)):\n",
    "   # iterate through columns of Y\n",
    "   for j in range(len(A[0])):\n",
    "       # iterate through rows of Y\n",
    "       for k in range(len(A)):\n",
    "            result[i][j] += (K[i][k] * A[k][j]) % 26\n",
    "            print result\n",
    "            \n",
    "result = np.array(result)\n",
    "result = result.T\n",
    "result\n",
    "\n",
    "B = result[0:7]\n",
    "\n",
    "C = B.ravel()   #convert the Matrix into 1D array\n",
    "print C\n",
    "\n",
    "C = C[:12]%26     #Calculating the Modulus of the remaining numbers\n",
    "C = np.array(C)\n",
    "print C[:12]\n",
    "\n",
    "Hillcipher = \"\"\n",
    "for i in range(len(C)):\n",
    "    Hillcipher += I2L[C[i]]\n",
    "    print Hillcipher\n",
    "\n",
    "    \n",
    "print (\"The Encrypted Hill Cipher of\", P,\" is:\", Hillcipher)"
   ]
  },
  {
   "cell_type": "code",
   "execution_count": null,
   "metadata": {
    "collapsed": true
   },
   "outputs": [],
   "source": []
  },
  {
   "cell_type": "markdown",
   "metadata": {},
   "source": [
    "# Program for Rail Fence Cipher Scheme Algorithm  "
   ]
  },
  {
   "cell_type": "code",
   "execution_count": 160,
   "metadata": {},
   "outputs": [
    {
     "name": "stdout",
     "output_type": "stream",
     "text": [
      "('The Plain Text is:', 'DEFENDHIM')\n",
      "('The Key Matrix is:', 3)\n",
      "D\n",
      "DE\n",
      "DEH\n",
      "DEHE\n",
      "DEHEN\n",
      "DEHENI\n",
      "DEHENIF\n",
      "DEHENIFD\n",
      "DEHENIFDM\n",
      "('The Encrypted Rail Fence Cipher of', 'DEFENDHIM', ' is:', 'DEHENIFDM')\n"
     ]
    }
   ],
   "source": [
    "plaintext = \"defendhim\"\n",
    "key = 3\n",
    "\n",
    "P = plaintext.upper();\n",
    "print (\"The Plain Text is:\", P)\n",
    "\n",
    "print (\"The Key Matrix is:\", key)\n",
    "\n",
    "k = list(P)\n",
    " \n",
    "m = np.reshape(k, (key, -1))\n",
    "m = np.array(m)\n",
    "c = m.T\n",
    "\n",
    "# C = m.ravel()\n",
    "# C\n",
    "m[:3]\n",
    "s = np.array(c).tolist()\n",
    "cipher = c.flatten()\n",
    "\n",
    "ciher = \"\"\n",
    "for i in range(len(cipher)):\n",
    "    ciher += cipher[i]\n",
    "    print ciher\n",
    "\n",
    "\n",
    "print (\"The Encrypted Rail Fence Cipher of\", P, \" is:\", ciher)"
   ]
  },
  {
   "cell_type": "code",
   "execution_count": null,
   "metadata": {
    "collapsed": true
   },
   "outputs": [],
   "source": []
  }
 ],
 "metadata": {
  "kernelspec": {
   "display_name": "Python 2",
   "language": "python",
   "name": "python2"
  },
  "language_info": {
   "codemirror_mode": {
    "name": "ipython",
    "version": 2
   },
   "file_extension": ".py",
   "mimetype": "text/x-python",
   "name": "python",
   "nbconvert_exporter": "python",
   "pygments_lexer": "ipython2",
   "version": "2.7.13"
  }
 },
 "nbformat": 4,
 "nbformat_minor": 2
}
